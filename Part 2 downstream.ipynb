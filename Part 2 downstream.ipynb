{
 "cells": [
  {
   "cell_type": "code",
   "execution_count": 24,
   "metadata": {
    "vscode": {
     "languageId": "shellscript"
    }
   },
   "outputs": [
    {
     "name": "stdout",
     "output_type": "stream",
     "text": [
      "ls size-stats/\n",
      "ls: cannot access 'size-stats/': No such file or directory\n"
     ]
    },
    {
     "ename": "",
     "evalue": "2",
     "output_type": "error",
     "traceback": []
    }
   ],
   "source": [
    "!ls"
   ]
  },
  {
   "cell_type": "markdown",
   "metadata": {},
   "source": [
    "# Characterising STRs based on length and sequence"
   ]
  },
  {
   "cell_type": "code",
   "execution_count": null,
   "metadata": {
    "vscode": {
     "languageId": "shellscript"
    }
   },
   "outputs": [
    {
     "name": "stdout",
     "output_type": "stream",
     "text": [
      "bcftools 1.19-23-g7bd34556\n",
      "Using htslib 1.19-8-g5627ef61\n",
      "Copyright (C) 2024 Genome Research Ltd.\n",
      "License Expat: The MIT/Expat license\n",
      "This is free software: you are free to change and redistribute it.\n",
      "There is NO WARRANTY, to the extent permitted by law.\n"
     ]
    }
   ],
   "source": [
    "!bcftools --version"
   ]
  },
  {
   "cell_type": "code",
   "execution_count": null,
   "metadata": {
    "vscode": {
     "languageId": "shellscript"
    }
   },
   "outputs": [
    {
     "name": "stdout",
     "output_type": "stream",
     "text": [
      "chr1\t77887913\t3\tAAG\n",
      "chr4\t3074877\t3\tAGC\n",
      "chr4\t3074940\t3\tCCG\n",
      "chr11\t57528484\t2\tAT\n",
      "chr14\t64253561\t2\tAC\n",
      "chr17\t51831668\t3\tAGC\n",
      "chr21\t43776443\t12\tCCCCGCCCCGCG\n"
     ]
    }
   ],
   "source": [
    "!bcftools query -f\"%CHROM\\t%POS\\t%INFO/PERIOD\\t%INFO/RU\\n\" output/ensembletr_output/ensembletr.vcf.gz > motif_info.tab\n",
    "!cat motif_info.tab"
   ]
  },
  {
   "cell_type": "code",
   "execution_count": null,
   "metadata": {
    "vscode": {
     "languageId": "shellscript"
    }
   },
   "outputs": [
    {
     "name": "stdout",
     "output_type": "stream",
     "text": [
      "\n",
      "Done\n",
      "\n",
      "Done\n",
      "\n",
      "Done\n",
      "\n",
      "Done\n",
      "\n",
      "Done\n"
     ]
    }
   ],
   "source": [
    "# get genotype statistics using statSTR\n",
    "\n",
    "populations=(\"africa\" \"europe\" \"east_asia\" \"south_asia\" \"america\")\n",
    "\n",
    "for population in \"${populations[@]}\"; do\n",
    "\n",
    "    statSTR \\\n",
    "        --vcf output/ensembletr_output/ensembletr.vcf.gz \\\n",
    "        --vcftype hipstr \\\n",
    "        --thresh --afreq --use-length \\\n",
    "        --out downstream/\"${population}\"_stats \\\n",
    "        --samples str_resources/\"${population}\"_sample_ids.txt\n",
    "\n",
    "done"
   ]
  },
  {
   "cell_type": "code",
   "execution_count": null,
   "metadata": {
    "vscode": {
     "languageId": "shellscript"
    }
   },
   "outputs": [],
   "source": [
    "# Get list of STR, period, diff, AF\n",
    "python get_diff_af.py output/ensembletr_output/ensembletr.vcf.gz > downstream/diff_afreqs.tab\n"
   ]
  },
  {
   "cell_type": "code",
   "execution_count": null,
   "metadata": {
    "vscode": {
     "languageId": "shellscript"
    }
   },
   "outputs": [
    {
     "name": "stdout",
     "output_type": "stream",
     "text": [
      "/home/ibra/protocol/genotyping_repeats_tutorial/summarize_allele_sizes.py:19: SettingWithCopyWarning: \n",
      "A value is trying to be set on a copy of a slice from a DataFrame.\n",
      "Try using .loc[row_indexer,col_indexer] = value instead\n",
      "\n",
      "See the caveats in the documentation: https://pandas.pydata.org/pandas-docs/stable/user_guide/indexing.html#returning-a-view-versus-a-copy\n",
      "  samples[\"Superpopulation\"] = samples[\"Superpopulation\"].apply(GetPopOrder)\n",
      "Reading records\n",
      "HG02105\n",
      "HG02330\n",
      "HG03885\n",
      "HG01097\n",
      "NA19746\n",
      "HG01054\n",
      "HG03385\n",
      "NA19734\n",
      "HG01628\n",
      "HG02181\n",
      "HG01365\n",
      "HG00457\n",
      "HG01841\n",
      "HG03733\n",
      "HG02006\n",
      "NA19670\n",
      "NA21093\n",
      "HG03848\n",
      "HG04003\n",
      "HG01063\n",
      "HG00437\n",
      "NA18559\n",
      "NA20802\n",
      "HG03060\n",
      "HG01976\n",
      "HG01383\n",
      "HG03830\n",
      "HG01468\n",
      "NA11830\n",
      "HG01807\n",
      "HG02804\n",
      "NA19064\n",
      "NA19700\n",
      "HG00342\n",
      "HG03024\n",
      "NA18974\n",
      "NA18510\n",
      "HG02139\n",
      "NA19079\n",
      "NA20278\n",
      "NA20542\n",
      "HG01685\n",
      "HG02061\n",
      "HG00343\n",
      "NA19107\n",
      "HG00188\n",
      "HG02465\n",
      "HG03595\n",
      "NA18639\n",
      "NA19024\n",
      "HG00231\n",
      "HG00613\n",
      "HG02861\n",
      "HG03458\n",
      "HG02649\n",
      "HG01673\n",
      "HG03054\n",
      "HG03868\n",
      "HG00671\n",
      "HG00242\n",
      "HG01679\n",
      "HG03472\n",
      "NA19066\n",
      "HG00185\n",
      "NA19752\n",
      "NA18909\n",
      "HG01863\n",
      "HG01272\n",
      "NA18954\n",
      "NA10847\n",
      "HG03965\n",
      "HG01205\n",
      "NA20518\n",
      "HG00581\n",
      "HG01816\n",
      "HG00120\n",
      "HG02379\n",
      "HG03953\n",
      "HG01250\n",
      "HG01369\n",
      "NA19023\n",
      "HG02286\n",
      "HG03652\n",
      "HG04093\n",
      "HG04238\n",
      "HG03787\n",
      "HG00313\n",
      "NA12751\n",
      "NA19152\n",
      "HG02646\n",
      "HG01392\n",
      "HG03109\n",
      "HG00742\n",
      "NA12046\n",
      "HG00358\n",
      "HG03780\n",
      "NA21101\n",
      "HG03792\n",
      "HG03684\n",
      "HG03491\n"
     ]
    }
   ],
   "source": [
    "# For each sample, count how many alleles match ref, ref+1, ref-1, etc.\n",
    "# Do separately for homopolymers and non-homopolymers\n",
    "\n",
    "python summarize_allele_sizes.py output/ensembletr_output/ensembletr.vcf.gz > downstream/asize_summary.tab\n"
   ]
  },
  {
   "cell_type": "code",
   "execution_count": 3,
   "metadata": {
    "vscode": {
     "languageId": "shellscript"
    }
   },
   "outputs": [],
   "source": [
    "####### Set up #########\n",
    "%matplotlib inline\n",
    "\n",
    "import matplotlib\n",
    "matplotlib.rcParams['pdf.fonttype'] = 42\n",
    "matplotlib.rcParams['ps.fonttype'] = 42\n",
    "from matplotlib.colors import LogNorm\n",
    "from matplotlib.gridspec import GridSpec\n",
    "\n",
    "import numpy as np\n",
    "import os\n",
    "import pandas as pd\n",
    "import scipy.stats\n",
    "import seaborn as sns\n",
    "\n",
    "def GetSuperpopColors(spop):\n",
    "    if \"Europe\" in spop: return \"blue\"\n",
    "    if \"Africa\" in spop: return \"gold\"\n",
    "    if \"America\" in spop: return \"red\"\n",
    "    if \"East Asia\" in spop: return \"green\"\n",
    "    if \"South Asia\" in spop: return \"purple\"\n"
   ]
  },
  {
   "cell_type": "code",
   "execution_count": 13,
   "metadata": {
    "vscode": {
     "languageId": "shellscript"
    }
   },
   "outputs": [
    {
     "name": "stderr",
     "output_type": "stream",
     "text": [
      "/tmp/ipykernel_31792/3052942061.py:11: FutureWarning: The provided callable <function sum at 0x7fa8281bf380> is currently using SeriesGroupBy.sum. In a future version of pandas, the provided callable will be used directly. To keep current behavior pass the string \"sum\" instead.\n",
      "  data = data.groupby([\"spop\",\"type\"], as_index=False).agg(aggdict)\n",
      "/tmp/ipykernel_31792/3052942061.py:11: FutureWarning: The provided callable <function sum at 0x7fa8281bf380> is currently using SeriesGroupBy.sum. In a future version of pandas, the provided callable will be used directly. To keep current behavior pass the string \"sum\" instead.\n",
      "  data = data.groupby([\"spop\",\"type\"], as_index=False).agg(aggdict)\n"
     ]
    },
    {
     "data": {
      "image/png": "[encoded data removed]",
      "text/plain": [
       "<Figure size 800x400 with 1 Axes>"
      ]
     },
     "metadata": {},
     "output_type": "display_data"
    },
    {
     "data": {
      "image/png": "[encoded data removed]",
      "text/plain": [
       "<Figure size 800x400 with 1 Axes>"
      ]
     },
     "metadata": {},
     "output_type": "display_data"
    }
   ],
   "source": [
    "# Load data, sum across all chromosomes\n",
    "# data gives counts of allele sizes in each sample,\n",
    "# separately for homopolymers/non-homopolymers\n",
    "\n",
    "sizecols = list(range(-11, 12))\n",
    "data = pd.read_csv(\"downstream/asize_summary.tab\", sep=\"\\t\", names=[\"sample\",\"spop\",\"pop\",\"type\"] + sizecols)\n",
    "\n",
    "# Aggregate by summarizing across samples/chromosomes\n",
    "aggdict = {}\n",
    "for i in sizecols: aggdict[i] = np.sum\n",
    "data = data.groupby([\"spop\",\"type\"], as_index=False).agg(aggdict)\n",
    "\n",
    "w = 0.12\n",
    "for vtype in [\"other\",\"hom\"]:\n",
    "    byspop = data[data[\"type\"]==vtype].copy()\n",
    "    byspop.index = byspop[\"spop\"]\n",
    "    byspop = byspop.drop(columns = [\"spop\",\"type\"])\n",
    "    byspop = byspop.div(byspop.sum(axis=1), axis=0)\n",
    "    byspop[0] = np.nan\n",
    "\n",
    "    fig = plt.figure()\n",
    "    fig.set_size_inches((8, 4))\n",
    "    ax = fig.add_subplot(111)\n",
    "    i = 0\n",
    "    for spop in sorted(list(byspop.index)):\n",
    "        vals = byspop.loc[spop]\n",
    "        color = GetSuperpopColors(spop)\n",
    "        ax.bar([item+w*i for item in sizecols], vals, color=color, label=spop, width=w)\n",
    "        i += 1\n",
    "    ax.legend(loc=\"upper left\")\n",
    "    ax.set_xticks(sizecols)\n",
    "    ax.set_xticklabels([\"<-10\"]+list(range(-10, 11)) + [\">10\"])\n",
    "    ax.set_xlabel(\"Diff from hg38 (# rpts)\")\n",
    "    ax.set_ylabel(\"% of alleles\")\n",
    "    ax.set_ylim(bottom=0, top=0.13)\n",
    "    ax.spines['right'].set_visible(False)\n",
    "    ax.spines['top'].set_visible(False)\n",
    "    ax.yaxis.set_ticks_position('left')\n",
    "    ax.xaxis.set_ticks_position('bottom')\n",
    "    if vtype == \"other\":\n",
    "        figname = \"DiffFromRef-Nonhomopolymer.pdf\"\n",
    "    else:\n",
    "        figname = \"DiffFromRef-Homopolymer.pdf\"\n",
    "    fig.savefig(os.path.join(\"downstream\", figname))"
   ]
  },
  {
   "cell_type": "code",
   "execution_count": 15,
   "metadata": {
    "vscode": {
     "languageId": "shellscript"
    }
   },
   "outputs": [
    {
     "name": "stdout",
     "output_type": "stream",
     "text": [
      "period=1 num_alleles=0 num_loci=0\n",
      "period=2 num_alleles=20 num_loci=2\n",
      "period=3 num_alleles=59 num_loci=4\n",
      "period=4 num_alleles=0 num_loci=0\n"
     ]
    },
    {
     "name": "stdout",
     "output_type": "stream",
     "text": [
      "period=5 num_alleles=0 num_loci=0\n",
      "period=6 num_alleles=0 num_loci=0\n",
      "period=7 num_alleles=3 num_loci=1\n"
     ]
    },
    {
     "data": {
      "image/png": "[encoded data removed]",
      "text/plain": [
       "<Figure size 500x800 with 7 Axes>"
      ]
     },
     "metadata": {},
     "output_type": "display_data"
    }
   ],
   "source": [
    "diffs = pd.read_csv(\"downstream/diff_afreqs.tab\", sep=\"\\t\", names=[\"chrom\",\"start\",\"period\",\"diff\",\"freq\"])\n",
    "\n",
    "fig = plt.figure()\n",
    "fig.set_size_inches((5, 8))\n",
    "for period in range(1, 8):\n",
    "    if period <= 6:\n",
    "        xx = diffs[(diffs[\"period\"]==period) & (diffs[\"diff\"].apply(abs) >= 0)]\n",
    "    else:\n",
    "        xx = diffs[(diffs[\"period\"]>=period) & (diffs[\"diff\"].apply(abs) >= 0)]\n",
    "    print(\"period=%s num_alleles=%s num_loci=%s\"%(period, xx.shape[0], xx[[\"chrom\",\"start\"]].drop_duplicates().shape[0]))\n",
    "    ax = fig.add_subplot(7, 1, period)\n",
    "    ax.spines['right'].set_visible(False)\n",
    "    ax.spines['top'].set_visible(False)\n",
    "    ax.yaxis.set_ticks_position('left')\n",
    "    ax.xaxis.set_ticks_position('bottom')\n",
    "    ax.scatter(xx[\"diff\"], xx[\"freq\"], color=\"black\", s=1, alpha=0.5)\n",
    "    ax.set_xlim(left=-70, right=70)\n",
    "    ax.set_ylim(bottom=-0.05, top=1)\n",
    "    if period != 7: ax.set_xticks([])\n",
    "fig.tight_layout()\n",
    "fig.savefig(os.path.join(\"downstream\", \"Figure2c-DiffVsAfreq.png\"), dpi=1200)"
   ]
  },
  {
   "cell_type": "code",
   "execution_count": null,
   "metadata": {
    "vscode": {
     "languageId": "shellscript"
    }
   },
   "outputs": [],
   "source": [
    "for (chrom, pos, name, expthresh) in [(\"chr17\", 51831667, \"CA10\", 65), \\\n",
    "                        (\"chr1\", 77887912, \"NEXN\", 40)]:\n",
    "    # Run statstr run_statSTR.sh    \n",
    "    # Load data\n",
    "    data = pd.read_csv(os.path.join(\"tmp\", \"%s.%s.stats.tab\")%(chrom, pos), sep=\"\\t\")\n",
    "    if data.shape[0] != 1:\n",
    "        assert(\"Need to find exactly one locus!\")\n",
    "\n",
    "    fig = plt.figure()\n",
    "    fig.set_size_inches((8, 8))\n",
    "    popnum = 0\n",
    "    w = 0.15\n",
    "    for spop in [\"EUR\",\"EAS\",\"SAS\",\"AMR\",\"AFR\",\"H3A\"]:\n",
    "        ax = fig.add_subplot(6, 1, popnum+1)\n",
    "        vals = data[\"afreq-%s\"%spop].values[0]\n",
    "        xvals = []\n",
    "        yvals = []\n",
    "        above_threshold_freq = 0\n",
    "        for ainfo in vals.split(\",\"):\n",
    "            allele, freq = ainfo.split(\":\")\n",
    "            allele = int(float(allele))\n",
    "            if allele >= expthresh:\n",
    "                above_threshold_freq += float(freq)\n",
    "                continue\n",
    "            freq = float(freq)\n",
    "            xvals.append(allele)\n",
    "            yvals.append(freq)\n",
    "        xvals.append(expthresh)\n",
    "        yvals.append(above_threshold_freq)\n",
    "        ax.bar(xvals, yvals, color=GetSuperpopColors(spop), edgecolor=\"black\", label=spop, width=1)\n",
    "        xticks = ax.get_xticks()\n",
    "        ax.set_xticks(list(xticks[0:len(xticks) - 1]) + [expthresh])\n",
    "        ax.set_xticklabels([str(x) for x in xticks[0:len(xticks) - 1]] + [f\">{expthresh}\"])\n",
    "        if expthresh is not None:\n",
    "            ax.axvline(x=expthresh, linewidth=0.5, color=\"gray\", linestyle=\"dashed\")\n",
    "        ax.legend(loc=\"upper left\")\n",
    "        popnum += 1\n",
    "    if name == \"CA10\":\n",
    "        figname = \"Figure2e-AFreq-CA10.pdf\"\n",
    "    if name == \"NEXN\":\n",
    "        figname = \"Figure2f-AFreq-NEXN.pdf\"\n",
    "    fig.tight_layout()\n",
    "    fig.savefig(os.path.join(PLOTDIR, figname))"
   ]
  }
 ],
 "metadata": {
  "kernelspec": {
   "display_name": "Bash",
   "language": "bash",
   "name": "bash"
  },
  "language_info": {
   "codemirror_mode": "shell",
   "file_extension": ".sh",
   "mimetype": "text/x-sh",
   "name": "bash"
  }
 },
 "nbformat": 4,
 "nbformat_minor": 2
}
