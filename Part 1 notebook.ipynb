{
 "cells": [
  {
   "cell_type": "markdown",
   "id": "f440b3fe",
   "metadata": {},
   "source": [
    "This notebook describes steps for installing the necessary software and genotyping STRs using using HipSTR, GangSTR, ExpansionHunter, adVNTR and EnsembleTR."
   ]
  },
  {
   "cell_type": "markdown",
   "id": "6a0359da",
   "metadata": {},
   "source": [
    "# Obtain data"
   ]
  },
  {
   "cell_type": "code",
   "execution_count": null,
   "id": "b0084967",
   "metadata": {
    "scrolled": true,
    "vscode": {
     "languageId": "shellscript"
    }
   },
   "outputs": [],
   "source": [
    "# download toy dataset, about 2.09 GB\n",
    "wget https://figshare.com/ndownloader/files/45766947\n"
   ]
  },
  {
   "cell_type": "code",
   "execution_count": null,
   "id": "2304bfa6",
   "metadata": {
    "vscode": {
     "languageId": "shellscript"
    }
   },
   "outputs": [],
   "source": [
    "# extract files from the archive by uncommenting the line below\n",
    "# and providing the name of the archive\n",
    "\n",
    "# tar -xvf <name_of_archive>"
   ]
  },
  {
   "cell_type": "code",
   "execution_count": null,
   "id": "772d2d2e",
   "metadata": {
    "scrolled": true,
    "vscode": {
     "languageId": "shellscript"
    }
   },
   "outputs": [],
   "source": [
    "# create output directory\n",
    "mkdir -p output/{hipstr_output,advntr_output/advntr_dir,gangstr_output,eh_output,ensembletr_output}\n",
    "\n",
    "tree output"
   ]
  },
  {
   "cell_type": "markdown",
   "id": "a2730776",
   "metadata": {},
   "source": [
    "# Installing tools"
   ]
  },
  {
   "cell_type": "markdown",
   "id": "73b6103b",
   "metadata": {},
   "source": [
    "## bcftools and tabix"
   ]
  },
  {
   "cell_type": "code",
   "execution_count": null,
   "id": "067b45a7",
   "metadata": {
    "vscode": {
     "languageId": "shellscript"
    }
   },
   "outputs": [],
   "source": [
    "# steps to install bcftools are described here, https://samtools.github.io/bcftools/howtos/install.html\n",
    "\n",
    "git clone --recurse-submodules https://github.com/samtools/htslib.git\n",
    "git clone https://github.com/samtools/bcftools.git\n",
    "cd bcftools\n",
    "make"
   ]
  },
  {
   "cell_type": "markdown",
   "id": "a85dcb4b",
   "metadata": {},
   "source": [
    "## HipSTR"
   ]
  },
  {
   "cell_type": "code",
   "execution_count": null,
   "id": "c9bd21a3",
   "metadata": {
    "vscode": {
     "languageId": "shellscript"
    }
   },
   "outputs": [],
   "source": [
    "# HipSTR\n",
    "\n",
    "# install these dependencies if you do not have them by uncommenting the line below\n",
    "\n",
    "# apt install g++ make zlib1g-dev libhts-dev libbz2-dev liblzma-dev\n",
    "\n",
    "git clone https://github.com/gymrek-lab/HipSTR.git\n",
    "cd HipSTR\n",
    "make version && make"
   ]
  },
  {
   "cell_type": "code",
   "execution_count": null,
   "id": "c2e1a46e",
   "metadata": {
    "vscode": {
     "languageId": "shellscript"
    }
   },
   "outputs": [],
   "source": [
    "./HipSTR --help\n",
    "cd .."
   ]
  },
  {
   "cell_type": "markdown",
   "id": "cd35bdc0",
   "metadata": {},
   "source": [
    "## ExpansionHunter"
   ]
  },
  {
   "cell_type": "code",
   "execution_count": null,
   "id": "dc5ca9fd",
   "metadata": {
    "vscode": {
     "languageId": "shellscript"
    }
   },
   "outputs": [],
   "source": [
    "# ExpansionHunter\n",
    "version=v5.0.0-linux_x86_64\n",
    "\n",
    "wget https://github.com/Illumina/ExpansionHunter/releases/download/v5.0.0/ExpansionHunter-v5.0.0-linux_x86_64.tar.gz\n",
    "\n",
    "tar -xzvf ExpansionHunter-v5.0.0-linux_x86_64.tar.gz\n"
   ]
  },
  {
   "cell_type": "code",
   "execution_count": null,
   "id": "38ed1ff9",
   "metadata": {
    "vscode": {
     "languageId": "shellscript"
    }
   },
   "outputs": [],
   "source": [
    "# The ExpansionHunter executable can be found in \n",
    "ExpansionHunter-v5.0.0-linux_x86_64/bin/ExpansionHunter --help\n"
   ]
  },
  {
   "cell_type": "markdown",
   "id": "0cd5de6c",
   "metadata": {},
   "source": [
    "## GangSTR"
   ]
  },
  {
   "cell_type": "code",
   "execution_count": null,
   "id": "ef8e40db-bdb4-4803-9ba5-944493248972",
   "metadata": {
    "vscode": {
     "languageId": "shellscript"
    }
   },
   "outputs": [],
   "source": [
    " # GangSTR\n",
    "\n",
    "mamba create -y --name gangstr\n",
    "mamba activate gangstr\n",
    "mamba config --add channels conda-forge\n",
    "mamba config --add channels bioconda\n",
    "mamba install -y -c conda-forge -c bioconda gangstr"
   ]
  },
  {
   "cell_type": "code",
   "execution_count": null,
   "id": "524b6029",
   "metadata": {
    "vscode": {
     "languageId": "shellscript"
    }
   },
   "outputs": [],
   "source": [
    "# this step maybe optional\n",
    "# only run if you get this error\n",
    "# GangSTR: error while loading shared libraries: libgsl.so.25: cannot open shared object file: No such file or directory\n",
    "mamba install -y conda-forge::gsl"
   ]
  },
  {
   "cell_type": "code",
   "execution_count": null,
   "id": "d6f473e4",
   "metadata": {
    "vscode": {
     "languageId": "shellscript"
    }
   },
   "outputs": [],
   "source": [
    "GangSTR --help\n",
    "\n",
    "mamba deactivate"
   ]
  },
  {
   "cell_type": "markdown",
   "id": "d1c4739d",
   "metadata": {},
   "source": [
    "## adVNTR"
   ]
  },
  {
   "cell_type": "code",
   "execution_count": null,
   "id": "72ec7ff0",
   "metadata": {
    "vscode": {
     "languageId": "shellscript"
    }
   },
   "outputs": [],
   "source": [
    "# advntr\n",
    "mamba create -y --name advntr\n",
    "mamba activate advntr\n",
    "mamba config --add channels conda-forge\n",
    "mamba config --add channels bioconda\n",
    "mamba install -y -c conda-forge -c bioconda advntr"
   ]
  },
  {
   "cell_type": "code",
   "execution_count": null,
   "id": "a45038a8-e06b-4741-831d-e2a88891c8a2",
   "metadata": {
    "vscode": {
     "languageId": "shellscript"
    }
   },
   "outputs": [],
   "source": [
    "# this step is optional\n",
    "# run if the step below returns\n",
    "# WARNING (theano.configdefaults): install mkl with `conda install mkl-service`: No module named 'mkl'\n",
    "\n",
    "mamba install -y mkl-service"
   ]
  },
  {
   "cell_type": "code",
   "execution_count": null,
   "id": "db31a249",
   "metadata": {
    "vscode": {
     "languageId": "shellscript"
    }
   },
   "outputs": [],
   "source": [
    "advntr \n",
    "mamba deactivate"
   ]
  },
  {
   "cell_type": "markdown",
   "id": "05a89a09",
   "metadata": {},
   "source": [
    "## EnsembleTR"
   ]
  },
  {
   "cell_type": "code",
   "execution_count": null,
   "id": "4fa7a72e",
   "metadata": {
    "vscode": {
     "languageId": "shellscript"
    }
   },
   "outputs": [],
   "source": [
    "# ensembleTR\n",
    "git clone https://github.com/gymrek-lab/EnsembleTR.git\n",
    "cd EnsembleTR\n",
    "python3 setup.py install --user"
   ]
  },
  {
   "cell_type": "code",
   "execution_count": null,
   "id": "7d2b43a6",
   "metadata": {
    "vscode": {
     "languageId": "shellscript"
    }
   },
   "outputs": [],
   "source": [
    "EnsembleTR --version\n",
    "cd .."
   ]
  },
  {
   "cell_type": "markdown",
   "id": "f62c58ec",
   "metadata": {},
   "source": [
    "## TRtools"
   ]
  },
  {
   "cell_type": "code",
   "execution_count": null,
   "id": "f65724a2",
   "metadata": {
    "vscode": {
     "languageId": "shellscript"
    }
   },
   "outputs": [],
   "source": [
    "git clone https://github.com/gymrek-lab/TRTools.git\n",
    "cd TRTools/\n",
    "python3 -m pip install --upgrade pip\n",
    "python3 -m pip install -e .\n",
    "cd .."
   ]
  },
  {
   "cell_type": "markdown",
   "id": "c63e3000",
   "metadata": {},
   "source": [
    "## vcftools"
   ]
  },
  {
   "cell_type": "code",
   "execution_count": null,
   "id": "a146959b",
   "metadata": {
    "vscode": {
     "languageId": "shellscript"
    }
   },
   "outputs": [],
   "source": [
    "git clone https://github.com/vcftools/vcftools.git\n",
    "cd vcftools\n",
    "./autogen.sh\n",
    "./configure\n",
    "make\n",
    "sudo make install\n",
    "\n",
    "cd .."
   ]
  },
  {
   "cell_type": "code",
   "execution_count": 6,
   "id": "0bcdb22e",
   "metadata": {
    "vscode": {
     "languageId": "shellscript"
    }
   },
   "outputs": [
    {
     "ename": "",
     "evalue": "1",
     "output_type": "error",
     "traceback": []
    }
   ],
   "source": [
    "# check software\n",
    "./check_software.sh statSTR associaTR compareSTR dumpSTR mergeSTR prancSTR qcSTR simTR vcftools | grep -i 'not installed'\n",
    "\n"
   ]
  },
  {
   "cell_type": "markdown",
   "id": "212a071d",
   "metadata": {},
   "source": [
    "# Genotyping STRs and preprocessing VCF files"
   ]
  },
  {
   "cell_type": "markdown",
   "id": "3f0b034e",
   "metadata": {},
   "source": [
    "## HipSTR"
   ]
  },
  {
   "cell_type": "code",
   "execution_count": null,
   "id": "4305400f",
   "metadata": {
    "vscode": {
     "languageId": "shellscript"
    }
   },
   "outputs": [],
   "source": [
    "# HipSTR\n",
    "\n",
    "populations=(\"africa\" \"europe\" \"east_asia\" \"south_asia\" \"america\")\n",
    "reference_genome=\"references/reference_chroms.fa\"\n",
    "\n",
    "for population in \"${populations[@]}\"; do\n",
    "    \n",
    "    bam_files=$(cat str_resources/\"${population}\".txt | tr \"\\n\" \",\")\n",
    "\n",
    "    HipSTR/HipSTR --bams $bam_files \\\n",
    "        --fasta $reference_genome \\\n",
    "        --regions str_resources/hipstr_reference.bed \\\n",
    "        --str-vcf output/hipstr_output/\"${population}\"_hipstr.vcf.gz \\\n",
    "        --log output/hipstr_output/\"${population}\"_strs.log \\\n",
    "        --viz-out output/hipstr_output/\"${population}\"_strs.viz.gz \\\n",
    "        --output-gls --output-pls --def-stutter-model\n",
    "        \n",
    "    tabix -p vcf output/hipstr_output/\"${population}\"_hipstr.vcf.gz\n",
    "\n",
    "    bcftools/bcftools sort -Oz output/hipstr_output/\"${population}\"_hipstr.vcf.gz -o output/hipstr_output/\"${population}\"_hipstr_sorted.vcf.gz\n",
    "    tabix -p vcf output/hipstr_output/\"${population}\"_hipstr_sorted.vcf.gz\n",
    "    \n",
    "done"
   ]
  },
  {
   "cell_type": "markdown",
   "id": "fde113ff",
   "metadata": {},
   "source": [
    "### Understanding HipSTR output"
   ]
  },
  {
   "cell_type": "code",
   "execution_count": 7,
   "id": "6ed57f5a",
   "metadata": {
    "vscode": {
     "languageId": "shellscript"
    }
   },
   "outputs": [
    {
     "name": "stdout",
     "output_type": "stream",
     "text": [
      "#CHROM\tchr11\n",
      "POS\t57528484\n",
      "ID\tTIMM10\n",
      "REF\tTATATATATATATATATATATATATATATATATACACAT\n",
      "ALT\tTATATATATATATATATATATACACACAT,TATATATATATATATATATATATACACAT,TATATATATATATATATATATATACACACAT,TATATATATATATATATATATATATACACAT,TATATATATATATATATATATATATATACACAT,TATATATATATATATATATATATATATATACACAT,TATATATATATATATATATATATATATATATATACACAG,TATATATATATATATATATATATATATATATATATACACAT\n",
      "QUAL\t.\n",
      "FILTER\t.\n",
      "INFO\tINFRAME_PGEOM=0.95;INFRAME_UP=0.05;INFRAME_DOWN=0.05;OUTFRAME_PGEOM=0.95;OUTFRAME_UP=0.01;OUTFRAME_DOWN=0.01;START=57528484;END=57528517;PERIOD=2;NSKIP=0;NFILT=1;BPDIFFS=-10,-10,-8,-8,-6,-4,0,2;DP=311;DSNP=0;DSTUTTER=3;DFLANKINDEL=7;AN=38;REFAC=2;AC=1,8,1,19,4,1,1,1\n",
      "FORMAT\tGT:GB:Q:PQ:DP:DSNP:DSTUTTER:DFLANKINDEL:PDP:PSNP:GLDIFF:AB:DAB:FS:ALLREADS:MALLREADS:GL:PL\n",
      "NA20278\t4|4:-8|-8:0.96:0.96:13:0:0:0:6.50|6.50:0|0:1.96:0:.:0:-8|6:-8|7:-65.32,-63.63,-74.72,-40.72,-43.59,-39.73,-54.65,-64.69,-43.04,-62.19,-30.83,-32.63,-31.00,-32.59,-28.73,-40.19,-41.96,-38.49,-41.68,-30.70,-38.08,-49.28,-50.86,-40.56,-49.45,-30.82,-40.04,-47.19,-68.83,-75.49,-42.23,-64.60,-32.34,-41.69,-50.80,-100.38,-67.24,-64.47,-40.72,-54.69,-30.83,-40.18,-49.29,-76.73,-73.91:365,348,459,119,148,109,259,359,143,334,20,38,22,38,0,114,132,97,129,19,93,205,221,118,207,20,113,184,400,467,135,358,36,129,220,716,385,357,119,259,20,114,205,479,451\n"
     ]
    }
   ],
   "source": [
    "vcftools --gzvcf output/hipstr_output/africa_hipstr.vcf.gz --snp TIMM10 --indv NA20278 --recode --recode-INFO-all --stdout | tail -n 2 | datamash transpose"
   ]
  },
  {
   "cell_type": "markdown",
   "id": "b785265d",
   "metadata": {},
   "source": [
    "### Visualising HipSTR alignments"
   ]
  },
  {
   "cell_type": "code",
   "execution_count": 6,
   "id": "32d014d8",
   "metadata": {
    "vscode": {
     "languageId": "shellscript"
    }
   },
   "outputs": [
    {
     "name": "stdout",
     "output_type": "stream",
     "text": [
      "VizAlnPdf successfully generated the alignment visualization file, but failed to open it. Please open viz_HG02330.pdf using a PDF viewer\n"
     ]
    }
   ],
   "source": [
    "# visualising alignments at chr17:51831668 for Africa super population\n",
    "\n",
    "## africa\n",
    "HipSTR/VizAlnPdf output/hipstr_output/africa_strs.viz.gz chr17 51831668 HG02330 viz_HG02330 3 \n"
   ]
  },
  {
   "cell_type": "code",
   "execution_count": 10,
   "id": "045b21c9",
   "metadata": {
    "vscode": {
     "languageId": "shellscript"
    }
   },
   "outputs": [],
   "source": [
    "convert -density 300 viz_HG02330.pdf -resize 25% HG002330.png\n",
    "# display HG002330.png"
   ]
  },
  {
   "cell_type": "markdown",
   "id": "1db8aa9b",
   "metadata": {},
   "source": [
    "![alignment](./HG002330.png)"
   ]
  },
  {
   "cell_type": "markdown",
   "id": "0a07cc45",
   "metadata": {},
   "source": [
    "## ExpansionHunter"
   ]
  },
  {
   "cell_type": "code",
   "execution_count": null,
   "id": "2fdd570a",
   "metadata": {
    "vscode": {
     "languageId": "shellscript"
    }
   },
   "outputs": [],
   "source": [
    "reference_genome=\"references/reference_chroms.fa\"\n",
    "output_dir=output/eh_output\n",
    "male_list=str_resources/bams_male.txt\n",
    "female_list=str_resources/bams_female.txt\n",
    "eh_reference_strs=str_resources/eh_reference.json\n",
    "\n",
    "# males\n",
    "for sample_bam in $(cat $male_list); do\n",
    "        \n",
    "    sample_id=$(basename $sample_bam | cut -f1 -d\".\")        \n",
    "\n",
    "    ExpansionHunter-v5.0.0-linux_x86_64/bin/ExpansionHunter \\\n",
    "            --threads 32 \\\n",
    "            --reads $sample_bam \\\n",
    "            --reference $reference_genome \\\n",
    "            --variant-catalog $eh_reference_strs \\\n",
    "            --output-prefix $output_dir/$sample_id \\\n",
    "            --sex male \\\n",
    "            --log-level trace\n",
    "\n",
    "    # eh vcf files do not have contigs listed in the header\n",
    "    bgzip output/eh_output/\"${sample_id}\".vcf\n",
    "    tabix -p vcf output/eh_output/\"${sample_id}\".vcf.gz\n",
    "    ~/bcftools/bcftools sort -Oz output/eh_output/\"${sample_id}\".vcf.gz -o output/eh_output/\"${sample_id}\"_sorted.vcf.gz\n",
    "    tabix -p vcf output/eh_output/\"${sample_id}\"_sorted.vcf.gz\n",
    "\n",
    "done\n",
    "\n",
    "\n",
    "# females\n",
    "for sample_bam in $(cat $female_list); do\n",
    "    \n",
    "    sample_id=$(basename $sample_bam | cut -f1 -d\".\")        \n",
    "\n",
    "    ExpansionHunter-v5.0.0-linux_x86_64/bin/ExpansionHunter \\\n",
    "            --threads 32 \\\n",
    "            --reads $sample_bam \\\n",
    "            --reference $reference_genome \\\n",
    "            --variant-catalog $eh_reference_strs \\\n",
    "            --output-prefix $output_dir/$sample_id \\\n",
    "            --sex female \\\n",
    "            --log-level trace\n",
    "                \n",
    "    # eh vcf files do not have contigs listed in the header\n",
    "    bgzip output/eh_output/\"${sample_id}\".vcf\n",
    "    tabix -p vcf output/eh_output/\"${sample_id}\".vcf.gz\n",
    "    ~/bcftools/bcftools sort -Oz output/eh_output/\"${sample_id}\".vcf.gz -o output/eh_output/\"${sample_id}\"_sorted.vcf.gz\n",
    "    tabix -p vcf output/eh_output/\"${sample_id}\"_sorted.vcf.gz\n",
    "\n",
    "done"
   ]
  },
  {
   "cell_type": "code",
   "execution_count": null,
   "id": "dc08bcef",
   "metadata": {
    "vscode": {
     "languageId": "shellscript"
    }
   },
   "outputs": [],
   "source": [
    "# merging sample VCFs into population VCFs\n",
    "\n",
    "populations=(\"africa\" \"europe\" \"east_asia\" \"south_asia\" \"america\")\n",
    "\n",
    "for population in \"${populations[@]}\"; do\n",
    "        \n",
    "    # comma-seperated list of vcfs\n",
    "    sample_vcfs=$(ls -1 output/eh_output/*_sorted.vcf.gz | \\\n",
    "    grep -f str_resources/\"${population}\"_sample_ids.txt | tr \"\\n\" \",\" | sed 's/,$//')\n",
    "    \n",
    "    mergeSTR \\\n",
    "        --vcfs $sample_vcfs \\\n",
    "        --vcftype 'eh' \\\n",
    "        --out output/eh_output/\"${population}\"_eh\n",
    "        \n",
    "    bgzip output/eh_output/\"${population}\"_eh.vcf\n",
    "    tabix -p vcf output/eh_output/\"${population}\"_eh.vcf.gz\n",
    "    \n",
    "    # filtering with dumpSTR\n",
    "#     dumpSTR --vcf output/eh_output/\"${population}\"_eh.vcf \\\n",
    "#         --out output/eh_output/\"${population}\"_eh_filt \\\n",
    "#         --vcftype 'eh' \n",
    "        \n",
    "#     bgzip output/eh_output/\"${population}\"_eh_filt.vcf\n",
    "#     tabix -p vcf output/eh_output/\"${population}\"_eh_filt.vcf.gz\n",
    "\n",
    "done\n"
   ]
  },
  {
   "cell_type": "markdown",
   "id": "d6736660",
   "metadata": {},
   "source": [
    "## GangSTR"
   ]
  },
  {
   "cell_type": "code",
   "execution_count": null,
   "id": "009989ad",
   "metadata": {
    "vscode": {
     "languageId": "shellscript"
    }
   },
   "outputs": [],
   "source": [
    "mamba activate gangstr\n",
    "\n",
    "reference_genome=\"references/reference_chroms.fa\"\n",
    "output_dir=output/gangstr_output\n",
    "male_list=str_resources/bams_male.txt\n",
    "female_list=str_resources/bams_female.txt\n",
    "gangstr_reference_strs=str_resources/gangstr_reference.bed\n",
    "\n",
    "# male samples\n",
    "for sample_bam in $(cat $male_list); do\n",
    "\n",
    "    sample_id=$(basename $sample_bam | cut -f1 -d\".\")\n",
    "\n",
    "    GangSTR --bam $sample_bam \\\n",
    "            --bam-samps $sample_id \\\n",
    "            --regions $gangstr_reference_strs \\\n",
    "            --samp-sex M \\\n",
    "            --ref $reference_genome \\\n",
    "            --out $output_dir/$sample_id \\\n",
    "            --insertmean 1 \\\n",
    "            --insertsdev 1 \\\n",
    "            --minmatch 1 \\\n",
    "            --min-sample-reads 1\n",
    "            \n",
    "    ~/bcftools/bcftools sort -Oz output/gangstr_output/\"${sample_id}\".vcf -o output/gangstr_output/\"${sample_id}\"_sorted.vcf.gz\n",
    "    tabix -p vcf output/gangstr_output/\"${sample_id}\"_sorted.vcf.gz\n",
    "\n",
    "done\n",
    "\n",
    "\n",
    "#female samples\n",
    "for sample_bam in $(cat $female_list); do\n",
    "\n",
    "    sample_id=$(basename $sample_bam | cut -f1 -d\".\")\n",
    "\n",
    "    GangSTR --bam $sample_bam \\\n",
    "            --bam-samps $sample_id \\\n",
    "            --regions $gangstr_reference_strs \\\n",
    "            --samp-sex F \\\n",
    "            --ref $reference_genome \\\n",
    "            --out $output_dir/$sample_id \\\n",
    "            --insertmean 1 \\\n",
    "            --insertsdev 1 \\\n",
    "            --minmatch 1 \\\n",
    "            --min-sample-reads 1\n",
    "\n",
    "    ~/bcftools/bcftools sort -Oz output/gangstr_output/\"${sample_id}\".vcf -o output/gangstr_output/\"${sample_id}\"_sorted.vcf.gz\n",
    "    tabix -p vcf output/gangstr_output/\"${sample_id}\"_sorted.vcf.gz\n",
    "            \n",
    "\n",
    "done\n",
    "\n",
    "mamba deactivate"
   ]
  },
  {
   "cell_type": "code",
   "execution_count": null,
   "id": "ee34307b",
   "metadata": {
    "vscode": {
     "languageId": "shellscript"
    }
   },
   "outputs": [],
   "source": [
    "# merging sample VCFs to population VCF\n",
    "populations=(\"africa\" \"europe\" \"east_asia\" \"south_asia\" \"america\")\n",
    "\n",
    "for population in \"${populations[@]}\"; do\n",
    "        \n",
    "    sample_vcfs=$(ls -1 output/gangstr_output/*_sorted.vcf.gz | \\\n",
    "    grep -f str_resources/\"${population}\"_sample_ids.txt | tr \"\\n\" \",\" | sed 's/,$//')\n",
    "    \n",
    "    mergeSTR \\\n",
    "        --vcfs $sample_vcfs \\\n",
    "        --vcftype 'gangstr' \\\n",
    "        --out output/gangstr_output/\"${population}\"_gangstr\n",
    "        \n",
    "        \n",
    "    bgzip output/gangstr_output/\"${population}\"_gangstr.vcf\n",
    "    tabix -p vcf output/gangstr_output/\"${population}\"_gangstr.vcf.gz\n",
    "    \n",
    "done"
   ]
  },
  {
   "cell_type": "markdown",
   "id": "468adc35",
   "metadata": {},
   "source": [
    "## adVNTR"
   ]
  },
  {
   "cell_type": "code",
   "execution_count": null,
   "id": "ee31bb80",
   "metadata": {
    "vscode": {
     "languageId": "shellscript"
    }
   },
   "outputs": [],
   "source": [
    "mamba activate advntr\n",
    "\n",
    "advntr_model=str_resources/vntr_data/hg19_selected_VNTRs_Illumina.db\n",
    "output_dir=output/advntr_output\n",
    "advntr_dir=output/advntr_output/advntr_dir\n",
    "bam_list=str_resources/bam_list.txt\n",
    "\n",
    "\n",
    "# main script\n",
    "for sample_bam in $(cat $bam_list); do\n",
    "\n",
    "    sample_id=$(basename $sample_bam | cut -f1 -d\".\")\n",
    "\n",
    "    advntr genotype \\\n",
    "            --vntr_id 301645 \\\n",
    "            --alignment_file $sample_bam \\\n",
    "            --outfmt vcf \\\n",
    "            --outfile $output_dir/\"${sample_id}\".vcf \\\n",
    "            --models $advntr_model \\\n",
    "            --working_directory $advntr_dir\n",
    "    \n",
    "    bgzip $output_dir/\"${sample_id}\".vcf\n",
    "    tabix output/advntr_output/\"${sample_id}\".vcf.gz\n",
    "    \n",
    "    ~/bcftools/bcftools sort -Oz output/advntr_output/\"${sample_id}\".vcf.gz -o output/advntr_output/\"${sample_id}\"_sorted.vcf.gz\n",
    "    tabix -p vcf output/advntr_output/\"${sample_id}\"_sorted.vcf.gz\n",
    "\n",
    "done\n",
    "\n",
    "mamba deactivate"
   ]
  },
  {
   "cell_type": "code",
   "execution_count": null,
   "id": "b72f5474",
   "metadata": {
    "vscode": {
     "languageId": "shellscript"
    }
   },
   "outputs": [],
   "source": [
    "populations=(\"africa\" \"europe\" \"east_asia\" \"south_asia\" \"america\")\n",
    "\n",
    "for population in \"${populations[@]}\"; do\n",
    "        \n",
    "    # comma-seperated list of vcfs\n",
    "    sample_vcfs=$(ls -1 output/advntr_output/*_sorted.vcf.gz | \\\n",
    "    grep -f str_resources/\"${population}\"_sample_ids.txt | tr \"\\n\" \",\" | sed 's/,$//')\n",
    "    \n",
    "    mergeSTR \\\n",
    "        --vcfs $sample_vcfs \\\n",
    "        --vcftype 'advntr' \\\n",
    "        --out output/advntr_output/\"${population}\"_advntr\n",
    "\n",
    "    bgzip output/advntr_output/\"${population}\"_advntr.vcf\n",
    "    tabix -p vcf output/advntr_output/\"${population}\"_advntr.vcf.gz\n",
    "\n",
    "\n",
    "done"
   ]
  },
  {
   "cell_type": "markdown",
   "id": "a5ba670b",
   "metadata": {},
   "source": [
    "## Merging population VCFs from each tools"
   ]
  },
  {
   "cell_type": "code",
   "execution_count": null,
   "id": "8aac8aeb",
   "metadata": {
    "vscode": {
     "languageId": "shellscript"
    }
   },
   "outputs": [],
   "source": [
    "# gangstr\n",
    "mergeSTR \\\n",
    "    --vcfs output/gangstr_output/africa_gangstr.vcf.gz,output/gangstr_output/east_asia_gangstr.vcf.gz,output/gangstr_output/south_asia_gangstr.vcf.gz,output/gangstr_output/america_gangstr.vcf.gz,output/gangstr_output/europe_gangstr.vcf.gz \\\n",
    "    --vcftype 'gangstr' \\\n",
    "    --out output/ensembletr_output/gangstr_strs\n",
    "\n",
    "bgzip output/ensembletr_output/gangstr_strs.vcf\n",
    "tabix -p vcf output/ensembletr_output/gangstr_strs.vcf.gz\n",
    "\n",
    "# expansionhunter\n",
    "mergeSTR \\\n",
    "    --vcfs output/eh_output/africa_eh.vcf.gz,output/eh_output/east_asia_eh.vcf.gz,output/eh_output/south_asia_eh.vcf.gz,output/eh_output/america_eh.vcf.gz,output/eh_output/europe_eh.vcf.gz \\\n",
    "    --vcftype 'eh' \\\n",
    "    --out output/ensembletr_output/eh_strs\n",
    "\n",
    "bgzip output/ensembletr_output/eh_strs.vcf\n",
    "tabix -p vcf output/ensembletr_output/eh_strs.vcf.gz\n",
    "\n",
    "#advntr\n",
    "mergeSTR \\\n",
    "    --vcfs output/advntr_output/africa_advntr.vcf.gz,output/advntr_output/east_asia_advntr.vcf.gz,output/advntr_output/south_asia_advntr.vcf.gz,output/advntr_output/america_advntr.vcf.gz,output/advntr_output/europe_advntr.vcf.gz \\\n",
    "    --vcftype 'advntr' \\\n",
    "    --out output/ensembletr_output/advntr_strs \n",
    "        \n",
    "bgzip output/ensembletr_output/advntr_strs.vcf\n",
    "tabix -p vcf output/ensembletr_output/advntr_strs.vcf.gz\n",
    "\n",
    "# hipstr\n",
    "mergeSTR \\\n",
    "    --vcfs output/hipstr_output/africa_hipstr_sorted.vcf.gz,output/hipstr_output/east_asia_hipstr_sorted.vcf.gz,output/hipstr_output/south_asia_hipstr_sorted.vcf.gz,output/hipstr_output/america_hipstr_sorted.vcf.gz,output/hipstr_output/europe_hipstr_sorted.vcf.gz \\\n",
    "    --vcftype 'hipstr' \\\n",
    "    --out output/ensembletr_output/hipstr_strs\n",
    "\n",
    "bgzip output/ensembletr_output/hipstr_strs.vcf\n",
    "tabix -p vcf output/ensembletr_output/hipstr_strs.vcf.gz"
   ]
  },
  {
   "cell_type": "markdown",
   "id": "8dfe3f0f",
   "metadata": {},
   "source": [
    "## EnsembleTR consensus genotyping"
   ]
  },
  {
   "cell_type": "code",
   "execution_count": null,
   "id": "d6cc467b",
   "metadata": {
    "vscode": {
     "languageId": "shellscript"
    }
   },
   "outputs": [],
   "source": [
    "reference_genome=\"references/reference_chroms.fa\"\n",
    "\n",
    "EnsembleTR \\\n",
    "    --ref $reference_genome \\\n",
    "    --vcfs output/ensembletr_output/advntr_strs.vcf.gz,output/ensembletr_output/eh_strs.vcf.gz,output/ensembletr_output/gangstr_strs.vcf.gz,output/ensembletr_output/hipstr_strs.vcf.gz \\\n",
    "    --out output/ensembletr_output/ensembletr.vcf\n",
    "    \n",
    "bgzip output/ensembletr_output/ensembletr.vcf\n",
    "tabix -p vcf output/ensembletr_output/ensembletr.vcf.gz\n",
    "\n",
    "# bcftools/bcftools sort -Oz output/ensembletr_output/ensembletr.vcf.gz -o output/ensembletr_output/ensembletr_sorted.vcf.gz\n",
    "# tabix -p vcf output/ensembletr_output/ensembletr_sorted.vcf.gz"
   ]
  },
  {
   "cell_type": "code",
   "execution_count": null,
   "id": "5c51a47a",
   "metadata": {
    "vscode": {
     "languageId": "shellscript"
    }
   },
   "outputs": [],
   "source": []
  }
 ],
 "metadata": {
  "kernelspec": {
   "display_name": "Bash",
   "language": "bash",
   "name": "bash"
  },
  "language_info": {
   "codemirror_mode": "shell",
   "file_extension": ".sh",
   "mimetype": "text/x-sh",
   "name": "bash"
  }
 },
 "nbformat": 4,
 "nbformat_minor": 5
}
